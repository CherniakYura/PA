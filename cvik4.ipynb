{
 "cells": [
  {
   "cell_type": "code",
   "execution_count": 38,
   "id": "19eda8bd-7db8-4dd3-8f5f-ef4b4649ecd7",
   "metadata": {},
   "outputs": [
    {
     "name": "stdout",
     "output_type": "stream",
     "text": [
      "      produkt  cena krajina       mesto  mesiac  kvartal    kategoria\n",
      "0      Chlieb   1.6      sk  bratislava       1        1        jedlo\n",
      "1      Tricko  10.0      sk  bratislava       1        1        jedlo\n",
      "2      Chlieb   1.6      sk  bratislava       1        1        jedlo\n",
      "3      Mlieko   2.2      sk  bratislava       1        1        jedlo\n",
      "4      Chlieb   1.6      sk  bratislava       1        1  elektronika\n",
      "...       ...   ...     ...         ...     ...      ...          ...\n",
      "14995  Chlieb   1.6      cz     ostrava       1        1  elektronika\n",
      "14996  Mlieko   2.2      cz     ostrava       1        1        jedlo\n",
      "14997  Chlieb   1.6      cz     ostrava       1        1        jedlo\n",
      "14998  Chlieb   1.6      cz     ostrava       1        1        jedlo\n",
      "14999  Chlieb   1.6      cz     ostrava       1        1        jedlo\n",
      "\n",
      "[75000 rows x 7 columns]\n"
     ]
    }
   ],
   "source": [
    "import pandas as pd\n",
    "from datetime import datetime\n",
    "\n",
    "pobocky = [\"bratislava\",\"brno\",\"kosice\",\"nitra\",\"ostrava\"]\n",
    "krajiny = [\"sk\",\"cz\",\"sk\",\"sk\",\"cz\"]\n",
    "\n",
    "data = pd.DataFrame([])\n",
    "\n",
    "for i, p in enumerate(pobocky):\n",
    "    raw_data = pd.read_csv(f\"data/{p}.csv\")\n",
    "    raw_data[\"krajina\"] = krajiny[i]\n",
    "    raw_data[\"mesto\"] = pobocky[i]\n",
    "\n",
    "    raw_data[\"cas_nakupu\"] = pd.to_datetime(raw_data[\"cas_nakupu\"])\n",
    "    \n",
    "    raw_data[\"mesiac\"] = raw_data[\"cas_nakupu\"].dt.month\n",
    "    raw_data[\"kvartal\"] = (raw_data[\"cas_nakupu\"].dt.month - 1) // 3 + 1\n",
    "    del raw_data[\"cas_nakupu\"]\n",
    "    del raw_data[\"Unnamed: 0\"]\n",
    "    \n",
    "    data = pd.concat([data , raw_data])\n",
    "\n",
    "# data['cena'] = [cena / 25 if kraj == \"cz\" else cena for cena, kraj in zip(data['cena'], data['krajina'])]\n",
    "# data['produkt'] = ['Chlieb' if produkt == \"Chleb\" else 'Tricko' if produkt == \"Triko\" else 'Mlieko' if produkt == \"Mleko\" else produkt for produkt in data['produkt']]\n",
    "# data['kategoria'] = ['jedlo' if produkt in [\"Chlieb\", \"Mlieko\"] else 'oblecenie' if produkt in [\"Tricko\", \"Sveter\"] else 'elektronika' if produkt in [\"Mobil\", \"Laptop\", \"Tablet\"] else \"none\" for produkt in data['produkt']]\n",
    "\n",
    "for index, row in data.iterrows():\n",
    "    if (krajiny[i] == \"cz\"):\n",
    "        data.at[index, \"cena\"] = row[\"cena\"] / 25\n",
    "        \n",
    "        cz_produkt = row[\"produkt\"]\n",
    "        if(cz_produkt == \"Chleb\"):\n",
    "            data.at[index, \"produkt\"] = \"Chlieb\"\n",
    "        elif(cz_produkt == \"Triko\"):\n",
    "            data.at[index, \"produkt\"] = \"Tricko\"\n",
    "        elif(cz_produkt == \"Mleko\"):\n",
    "            data.at[index, \"produkt\"] = \"Mlieko\"\n",
    "    \n",
    "    if(row[\"produkt\"] in [\"Chlieb\", \"Mlieko\"]):\n",
    "        data.at[index, \"kategoria\"] = \"jedlo\" \n",
    "    if(row[\"produkt\"] in [\"Sveter\", \"Tricko\"]):\n",
    "        data.at[index, \"kategoria\"] = \"oblecenie\" \n",
    "    if(row[\"produkt\"] in [\"Mobil\", \"Laptop\", \"Tablet\"]):\n",
    "        data.at[index, \"kategoria\"] = \"elektronika\" \n",
    "    \n",
    "print(data)"
   ]
  },
  {
   "cell_type": "code",
   "execution_count": null,
   "id": "4009d418-10cb-499a-b8f8-d496ebee3a34",
   "metadata": {},
   "outputs": [],
   "source": [
    "\n"
   ]
  }
 ],
 "metadata": {
  "kernelspec": {
   "display_name": "Python 3 (ipykernel)",
   "language": "python",
   "name": "python3"
  },
  "language_info": {
   "codemirror_mode": {
    "name": "ipython",
    "version": 3
   },
   "file_extension": ".py",
   "mimetype": "text/x-python",
   "name": "python",
   "nbconvert_exporter": "python",
   "pygments_lexer": "ipython3",
   "version": "3.10.6"
  }
 },
 "nbformat": 4,
 "nbformat_minor": 5
}
