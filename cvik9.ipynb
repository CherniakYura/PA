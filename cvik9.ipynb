{
 "cells": [
  {
   "cell_type": "code",
   "execution_count": 2,
   "id": "61d4ae24-728a-4c8b-97ff-0862a5cb9dc0",
   "metadata": {},
   "outputs": [],
   "source": [
    "from sklearn.cluster import KMeans\n",
    "import pandas as pd\n",
    "import matplotlib.pyplot as plt\n",
    "import numpy as np\n",
    "import scipy.cluster.hierarchy as shc\n",
    "from sklearn.cluster import AgglomerativeClustering\n",
    "from scipy.cluster.hierarchy import dendrogram"
   ]
  },
  {
   "cell_type": "code",
   "execution_count": 9,
   "id": "e407700d-d8de-4922-b699-c66ae76eddc5",
   "metadata": {},
   "outputs": [],
   "source": [
    "mtcars = pd.read_csv(\"http://peter.butka.website.tuke.sk/res/mtcars.csv\")"
   ]
  },
  {
   "cell_type": "code",
   "execution_count": 5,
   "id": "e86e7ef3-ea84-4f44-8316-22592adaa80a",
   "metadata": {},
   "outputs": [],
   "source": [
    "mtcars1 = pd.read_csv(\"http://peter.butka.website.tuke.sk/res/mtcars.csv\")"
   ]
  },
  {
   "cell_type": "code",
   "execution_count": 6,
   "id": "13e4a893-9bfd-4499-b49b-fd21b906feb1",
   "metadata": {},
   "outputs": [],
   "source": [
    "mtcars1 = mtcars1[[\"hp\", \"drat\"]]"
   ]
  },
  {
   "cell_type": "code",
   "execution_count": 25,
   "id": "895fbf4a-b209-4797-acc1-f9351a16e0dc",
   "metadata": {},
   "outputs": [
    {
     "data": {
      "text/plain": [
       "array([[215.69230769,   3.30153846],\n",
       "       [ 99.47368421,   3.79842105]])"
      ]
     },
     "execution_count": 25,
     "metadata": {},
     "output_type": "execute_result"
    }
   ],
   "source": [
    "kmeans_result1 = KMeans(n_clusters = 2).fit(mtcars1)\n",
    "kmeans_result1.cluster_centers_"
   ]
  },
  {
   "cell_type": "code",
   "execution_count": 34,
   "id": "817be03b-aa31-46c6-a14c-8b6233cdd7ab",
   "metadata": {},
   "outputs": [],
   "source": [
    "k_predicted = kmeans_result1.predict(mtcars1)"
   ]
  },
  {
   "cell_type": "code",
   "execution_count": 35,
   "id": "91b08466-f575-44bd-b059-68b6e3357eaf",
   "metadata": {},
   "outputs": [
    {
     "data": {
      "text/html": [
       "<div>\n",
       "<style scoped>\n",
       "    .dataframe tbody tr th:only-of-type {\n",
       "        vertical-align: middle;\n",
       "    }\n",
       "\n",
       "    .dataframe tbody tr th {\n",
       "        vertical-align: top;\n",
       "    }\n",
       "\n",
       "    .dataframe thead th {\n",
       "        text-align: right;\n",
       "    }\n",
       "</style>\n",
       "<table border=\"1\" class=\"dataframe\">\n",
       "  <thead>\n",
       "    <tr style=\"text-align: right;\">\n",
       "      <th>vs</th>\n",
       "      <th>0</th>\n",
       "      <th>1</th>\n",
       "    </tr>\n",
       "    <tr>\n",
       "      <th>row_0</th>\n",
       "      <th></th>\n",
       "      <th></th>\n",
       "    </tr>\n",
       "  </thead>\n",
       "  <tbody>\n",
       "    <tr>\n",
       "      <th>0</th>\n",
       "      <td>13</td>\n",
       "      <td>0</td>\n",
       "    </tr>\n",
       "    <tr>\n",
       "      <th>1</th>\n",
       "      <td>5</td>\n",
       "      <td>14</td>\n",
       "    </tr>\n",
       "  </tbody>\n",
       "</table>\n",
       "</div>"
      ],
      "text/plain": [
       "vs      0   1\n",
       "row_0        \n",
       "0      13   0\n",
       "1       5  14"
      ]
     },
     "execution_count": 35,
     "metadata": {},
     "output_type": "execute_result"
    }
   ],
   "source": [
    "pd.crosstab(k_predicted, mtcars.vs)"
   ]
  },
  {
   "cell_type": "code",
   "execution_count": 41,
   "id": "2efe069c-0550-48a0-946c-a963ea9462d7",
   "metadata": {},
   "outputs": [
    {
     "data": {
      "text/plain": [
       "<matplotlib.collections.PathCollection at 0x7f66a1bab670>"
      ]
     },
     "execution_count": 41,
     "metadata": {},
     "output_type": "execute_result"
    },
    {
     "data": {
      "image/png": "[encoded data removed]",
      "text/plain": [
       "<Figure size 640x480 with 1 Axes>"
      ]
     },
     "metadata": {},
     "output_type": "display_data"
    }
   ],
   "source": [
    "plt.scatter(mtcars1.hp, mtcars1.drat,c=k_predicted)\n",
    "plt.scatter(kmeans_result1.cluster_centers_[:,0],kmeans_result1.cluster_centers_[:,1], c=\"red\")"
   ]
  },
  {
   "cell_type": "code",
   "execution_count": 47,
   "id": "2259657e-c03e-4eac-8afc-085ad1172944",
   "metadata": {},
   "outputs": [],
   "source": [
    "mtcars2 = mtcars[[\"mpg\", \"qsec\"]]"
   ]
  },
  {
   "cell_type": "code",
   "execution_count": 64,
   "id": "2f601d43-bcff-47c0-8339-0d9b3b4ebce0",
   "metadata": {},
   "outputs": [],
   "source": [
    "hc2 = shc.linkage(mtcars2, method=\"average\")"
   ]
  },
  {
   "cell_type": "code",
   "execution_count": 100,
   "id": "d052e60f-b9a3-41ec-8aa5-b5934484c37d",
   "metadata": {},
   "outputs": [
    {
     "data": {
      "text/plain": [
       "array([[14.        , 15.        ,  0.16      ,  2.        ],\n",
       "       [ 4.        , 24.        ,  0.50089919,  2.        ],\n",
       "       [16.        , 22.        ,  0.51419841,  2.        ],\n",
       "       [ 0.        ,  1.        ,  0.56      ,  2.        ],\n",
       "       [ 3.        , 20.        ,  0.57870545,  2.        ],\n",
       "       [13.        , 34.        ,  0.73288379,  3.        ],\n",
       "       [28.        , 30.        ,  0.80622577,  2.        ],\n",
       "       [21.        , 37.        ,  0.88809282,  4.        ],\n",
       "       [11.        , 12.        ,  0.92195445,  2.        ],\n",
       "       [ 6.        , 23.        ,  1.08853112,  2.        ],\n",
       "       [31.        , 36.        ,  1.12677083,  3.        ],\n",
       "       [ 9.        , 33.        ,  1.31209534,  3.        ],\n",
       "       [ 5.        , 10.        ,  1.3536617 ,  2.        ],\n",
       "       [17.        , 19.        ,  1.56041661,  2.        ],\n",
       "       [18.        , 27.        ,  1.62      ,  2.        ],\n",
       "       [ 2.        , 42.        ,  1.64602573,  4.        ],\n",
       "       [39.        , 40.        ,  1.7622593 ,  6.        ],\n",
       "       [29.        , 35.        ,  1.80807228,  3.        ],\n",
       "       [38.        , 41.        ,  1.99472123,  4.        ],\n",
       "       [43.        , 49.        ,  2.15964415,  6.        ],\n",
       "       [25.        , 26.        ,  2.55538647,  2.        ],\n",
       "       [ 7.        , 47.        ,  2.84547073,  5.        ],\n",
       "       [48.        , 50.        ,  2.87916793, 10.        ],\n",
       "       [44.        , 51.        ,  3.36938879,  8.        ],\n",
       "       [45.        , 46.        ,  3.46067028,  4.        ],\n",
       "       [ 8.        , 53.        ,  3.80513996,  6.        ],\n",
       "       [55.        , 57.        ,  4.35685689, 14.        ],\n",
       "       [32.        , 54.        ,  5.23762348, 12.        ],\n",
       "       [52.        , 56.        ,  5.41034779,  6.        ],\n",
       "       [58.        , 59.        ,  6.8209154 , 26.        ],\n",
       "       [60.        , 61.        , 12.52988466, 32.        ]])"
      ]
     },
     "execution_count": 100,
     "metadata": {},
     "output_type": "execute_result"
    }
   ],
   "source": [
    "hc2"
   ]
  },
  {
   "cell_type": "code",
   "execution_count": 72,
   "id": "d13939fd-cfb8-452c-9afd-eef8c73c1fda",
   "metadata": {},
   "outputs": [
    {
     "data": {
      "image/png": "[encoded data removed]",
      "text/plain": [
       "<Figure size 640x480 with 1 Axes>"
      ]
     },
     "metadata": {},
     "output_type": "display_data"
    }
   ],
   "source": [
    "dn = dendrogram(hc2)"
   ]
  },
  {
   "cell_type": "code",
   "execution_count": 81,
   "id": "497d08b0-7e10-44ca-a3d6-1cfad7444024",
   "metadata": {},
   "outputs": [
    {
     "name": "stderr",
     "output_type": "stream",
     "text": [
      "/tmp/ipykernel_116/2293843270.py:4: SettingWithCopyWarning: \n",
      "A value is trying to be set on a copy of a slice from a DataFrame.\n",
      "Try using .loc[row_indexer,col_indexer] = value instead\n",
      "\n",
      "See the caveats in the documentation: https://pandas.pydata.org/pandas-docs/stable/user_guide/indexing.html#returning-a-view-versus-a-copy\n",
      "  mtcars2.groups = clusters\n"
     ]
    }
   ],
   "source": [
    "threshold = 6\n",
    "\n",
    "clusters = shc.fcluster(hc2, threshold, criterion=\"distance\")\n",
    "mtcars2.groups = clusters"
   ]
  }
 ],
 "metadata": {
  "kernelspec": {
   "display_name": "Python 3 (ipykernel)",
   "language": "python",
   "name": "python3"
  },
  "language_info": {
   "codemirror_mode": {
    "name": "ipython",
    "version": 3
   },
   "file_extension": ".py",
   "mimetype": "text/x-python",
   "name": "python",
   "nbconvert_exporter": "python",
   "pygments_lexer": "ipython3",
   "version": "3.10.6"
  }
 },
 "nbformat": 4,
 "nbformat_minor": 5
}
