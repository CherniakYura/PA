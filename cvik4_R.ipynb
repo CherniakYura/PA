{
 "cells": [
  {
   "cell_type": "code",
   "execution_count": 12,
   "id": "a023f776-f1af-46e2-b338-f114438faf12",
   "metadata": {},
   "outputs": [],
   "source": [
    "pobocky <- c(\"bratislava\", \"brno\", \"kosice\", \"nitra\", \"ostrava\")\n",
    "krajiny <- c(\"sk\", \"cz\", \"sk\", \"sk\", \"cz\")"
   ]
  },
  {
   "cell_type": "code",
   "execution_count": 13,
   "id": "aa95cdde-6e1a-447f-8af5-b8da5be4726d",
   "metadata": {},
   "outputs": [
    {
     "name": "stdout",
     "output_type": "stream",
     "text": [
      "  produkt cena krajina      mesto mesiac kvartal\n",
      "1  Mlieko    3      sk bratislava      1       1\n",
      "2  Tricko   10      sk bratislava      1       1\n",
      "3  Sveter   25      sk bratislava      1       1\n",
      "4  Chlieb    2      sk bratislava      1       1\n",
      "5  Mlieko    3      sk bratislava      1       1\n",
      "6  Chlieb    2      sk bratislava      1       1\n"
     ]
    }
   ],
   "source": [
    "data <- data.frame()\n",
    "\n",
    "for (i in 1:length(pobocky)) {\n",
    "    raw_data <- read.csv(paste(\"data/\", pobocky[i], \".csv\", sep=\"\"))\n",
    "    \n",
    "    raw_data$krajina = krajiny[i]\n",
    "    raw_data$mesto = pobocky[i]\n",
    "\n",
    "    raw_data$cas_nakupu = as.Date(raw_data$cas_nakupu, format=\"%Y-%m-%d\") \n",
    "    \n",
    "    raw_data$mesiac = as.numeric(format(raw_data$cas_nakupu, \"%m\"))\n",
    "    raw_data$kvartal = (raw_data$mesiac - 1) %/% 3 + 1\n",
    "    \n",
    "    raw_data <- raw_data[, -c(1, 2)]\n",
    "    \n",
    "    data <- rbind(data, raw_data)\n",
    "}\n",
    "print(head(data))"
   ]
  },
  {
   "cell_type": "code",
   "execution_count": 15,
   "id": "8c099fad-93e3-46ac-aae0-bb8ecea528be",
   "metadata": {},
   "outputs": [
    {
     "name": "stdout",
     "output_type": "stream",
     "text": [
      "  produkt cena krajina      mesto mesiac kvartal kategoria\n",
      "1  Mlieko    3      sk bratislava      1       1     jedlo\n",
      "2  Tricko   10      sk bratislava      1       1 oblecenie\n",
      "3  Sveter   25      sk bratislava      1       1 oblecenie\n",
      "4  Chlieb    2      sk bratislava      1       1     jedlo\n",
      "5  Mlieko    3      sk bratislava      1       1     jedlo\n",
      "6  Chlieb    2      sk bratislava      1       1     jedlo\n"
     ]
    }
   ],
   "source": [
    "data$cena <- ifelse(data$krajina == \"cz\", data$cena / 25, data$cena)\n",
    "\n",
    "data$produkt <- ifelse(data$produkt == \"Chleb\", \"Chlieb\",\n",
    "                       ifelse(data$produkt == \"Triko\", \"Tricko\",\n",
    "                              ifelse(data$produkt == \"Mleko\", \"Mlieko\", data$produkt)))\n",
    "\n",
    "data$kategoria <- ifelse(data$produkt %in% c(\"Chlieb\", \"Mlieko\"), \"jedlo\",\n",
    "                         ifelse(data$produkt %in% c(\"Sveter\", \"Tricko\"), \"oblecenie\",\n",
    "                                 ifelse(data$produkt %in% c(\"Mobil\", \"Laptop\", \"Tablet\"), \"elektronika\", \"none\")))\n",
    "\n",
    "print(head(data))"
   ]
  }
 ],
 "metadata": {
  "kernelspec": {
   "display_name": "R",
   "language": "R",
   "name": "ir"
  },
  "language_info": {
   "codemirror_mode": "r",
   "file_extension": ".r",
   "mimetype": "text/x-r-source",
   "name": "R",
   "pygments_lexer": "r",
   "version": "4.2.2"
  }
 },
 "nbformat": 4,
 "nbformat_minor": 5
}
